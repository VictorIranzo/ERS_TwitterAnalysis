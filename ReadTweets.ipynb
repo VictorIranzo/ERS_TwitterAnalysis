{
 "cells": [
  {
   "cell_type": "code",
   "execution_count": 1,
   "metadata": {},
   "outputs": [],
   "source": [
    "import json\n",
    "import csv\n",
    "states = [\"ak\",\"al\",\"ar\",\"az\",\"ca\",\"co\",\"ct\",\"de\",\"fl\",\"ga\",\"hi\",\"ia\",\"id\",\"il\",\n",
    "          \"in\",\"ks\",\"ky\",\"la\",\"ma\",\"md\",\"me\",\"mi\",\"mn\",\"mo\",\"ms\",\"mt\",\"nc\",\"nd\",\"ne\",\"nh\",\n",
    "          \"nj\",\"nm\",\"nv\",\"ny\",\"oh\",\"ok\",\"or\",\"pa\",\"ri\",\"sc\",\"sd\",\"tn\",\"tx\",\"ut\",\"va\",\"vt\",\n",
    "          \"wa\",\"wi\",\"wv\",\"wy\"]\n",
    "\n",
    "states_names = {'AL': 'Alabama', 'AK': 'Alaska', 'AZ': 'Arizona', 'AR': 'Arkansas', 'CA': 'California', 'CO': 'Colorado',\n",
    "'CT': 'Connecticut', 'DE': 'Delaware', 'FL': 'Florida', 'GA': 'Georgia', 'HI': 'Hawaii', 'ID': 'Idaho', 'IL': 'Illinois',\n",
    "'IN': 'Indiana', 'IA': 'Iowa', 'KS': 'Kansas', 'KY': 'Kentucky', 'LA': 'Louisiana', 'ME': 'Maine', 'MD': 'Maryland',\n",
    "'MA': 'Massachusetts', 'MI': 'Michigan', 'MN': 'Minnesota', 'MS': 'Mississippi', 'MO': 'Missouri', 'MT': 'Montana',\n",
    "'NE': 'Nebraska', 'NV': 'Nevada', 'NH': 'New Hampshire', 'NJ': 'New Jersey', 'NM': 'New Mexico', 'NY': 'New York', 'NC':'North Carolina', 'ND': 'North Dakota', 'OH': 'Ohio', 'OK': 'Oklahoma', 'OR': 'Oregon', 'PA': 'Pennsylvania', 'RI': 'Rhode Island',\n",
    "'SC': 'South Carolina', 'SD': 'South Dakota', 'TN':'Tennessee', 'TX': 'Texas', 'UT': 'Utah', 'VT': 'Vermont', 'VA': 'Virginia',\n",
    "'WA': 'Washington','WV': 'West Virginia', 'WI': 'Wisconsin', 'WY': 'Wyoming'}\n"
   ]
  },
  {
   "cell_type": "code",
   "execution_count": 4,
   "metadata": {},
   "outputs": [],
   "source": [
    "\n",
    "\n",
    "def getState(data):\n",
    "    if data[\"place\"] != None and data[\"place\"][\"country_code\"] == \"US\":\n",
    "        state = str(data[\"place\"][\"full_name\"]).lower().split(\", \")\n",
    "        if len(state) > 1:\n",
    "            return state[1]\n",
    "\n",
    "def isState(state):\n",
    "    if state in states:\n",
    "        return True\n",
    "    return False \n",
    "\n",
    "def readTweets():\n",
    "    file = \"output.txt\"\n",
    "\n",
    "    \n",
    "    array = []\n",
    "    with open(file, \"r\") as ins:\n",
    "\n",
    "        for line in ins:          \n",
    "         if ( len(line)> 1): ## to avoid empty lines \n",
    "           data = json.loads(line)\n",
    "           if \"created_at\" in data:\n",
    "               state = getState(data)\n",
    "               if isState(state):\n",
    "                 if \"text\" in data:\n",
    "                    print(data[\"text\"])\n",
    "                    print(state)\n",
    "    "
   ]
  },
  {
   "cell_type": "code",
   "execution_count": 5,
   "metadata": {},
   "outputs": [
    {
     "name": "stdout",
     "output_type": "stream",
     "text": [
      "Setting here on break talking to my Sister about the orangutan that flipped me off at the Zoo last Summer lol. It was funny\n",
      "in\n",
      "🎄🎅🎁⛄\n",
      "Luke Hemmings from @5SOS\n",
      "who is Santa's \n",
      "favorite singer?\n",
      "Elf-is Presley! \n",
      "I love you!❤💚\n",
      "follow me please?\n",
      "@Luke5SOS\n",
      "🎄🎅🎁⛄\n",
      "17,908\n",
      "mi\n",
      "Finals next week http://t.co/Ti5uWGyEef\n",
      "ks\n",
      "Means I'm still graduating in May :)\n",
      "tx\n",
      "somebody should bring me food\n",
      "ny\n",
      "@brittany_vv she won't let me hand mine in lmao\n",
      "ri\n",
      "I'll just be casually carrying fifty bags to acting since I'm going to the rec right after class 😂🙈\n",
      "mi\n",
      "“@trayXO_: College is 30x better than high school. I don't see how people say they miss it.” Fuck high school\n",
      "nj\n",
      "Psychopath Killer | Slaughterhouse x Eminem x Yelawolf\n",
      "tx\n",
      "@Mondeezzy38 good &amp; nah\n",
      "ca\n",
      "@Mixed___Beauty I took my hair out, I'm getting it redone at 9.\n",
      "va\n",
      "Daniels getting butt hurt.\n",
      "tx\n",
      "“@KrustyTharton: You find out the person your ex truly is after y'all break up” RFT\n",
      "in\n"
     ]
    }
   ],
   "source": [
    "readTweets()\n"
   ]
  },
  {
   "cell_type": "code",
   "execution_count": null,
   "metadata": {
    "collapsed": true
   },
   "outputs": [],
   "source": []
  }
 ],
 "metadata": {
  "kernelspec": {
   "display_name": "Python 3",
   "language": "python",
   "name": "python3"
  },
  "language_info": {
   "codemirror_mode": {
    "name": "ipython",
    "version": 3
   },
   "file_extension": ".py",
   "mimetype": "text/x-python",
   "name": "python",
   "nbconvert_exporter": "python",
   "pygments_lexer": "ipython3",
   "version": "3.7.4"
  }
 },
 "nbformat": 4,
 "nbformat_minor": 2
}
