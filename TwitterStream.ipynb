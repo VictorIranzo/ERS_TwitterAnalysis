{
 "cells": [
  {
   "cell_type": "code",
   "execution_count": 6,
   "metadata": {},
   "outputs": [
    {
     "name": "stdout",
     "output_type": "stream",
     "text": [
      "{'errors': [{'code': 89, 'message': 'Invalid or expired token.'}]}\n"
     ]
    }
   ],
   "source": [
    "import oauth2 as oauth\n",
    "import urllib.request as urllib\n",
    "import json\n",
    "\n",
    "# See Assignment 1 instructions or README for how to get these credentials\n",
    "# See Assignment 1 instructions or README for how to get these credentials\n",
    "consumer_key = \"qDqiLQoTgQusOGa9x0YJJtXr8\"\n",
    "consumer_secret = \"HBb2eOxW1XbO1ERIul0UR0zN3MDNz4P1IF6UKqA1qjdXcSBVL4\"\n",
    " \n",
    "access_token_key  = \"2792071239-0ewaqKRyFglUAPDjDEjEEikn292OE1rjjFVR9cN\"\n",
    "access_token_secret  = 'xnQimJigJSReMjoCF0WmMpO2nz0dSmjKbTxyUpkg23LJL'\n",
    "\n",
    "_debug = 0\n",
    "\n",
    "oauth_token    = oauth.Token(key=access_token_key, secret=access_token_secret)\n",
    "oauth_consumer = oauth.Consumer(key=consumer_key, secret=consumer_secret)\n",
    "\n",
    "signature_method_hmac_sha1 = oauth.SignatureMethod_HMAC_SHA1()\n",
    "\n",
    "http_method = \"GET\"\n",
    "\n",
    "\n",
    "http_handler  = urllib.HTTPHandler(debuglevel=_debug)\n",
    "https_handler = urllib.HTTPSHandler(debuglevel=_debug)\n",
    "\n",
    "'''\n",
    "Construct, sign, and open a twitter request\n",
    "using the hard-coded credentials above.\n",
    "'''\n",
    "def twitterreq(url, method, parameters):\n",
    "  req = oauth.Request.from_consumer_and_token(oauth_consumer,\n",
    "                                             token=oauth_token,\n",
    "                                             http_method=http_method,\n",
    "                                             http_url=url, \n",
    "                                             parameters=parameters)\n",
    "\n",
    "  req.sign_request(signature_method_hmac_sha1, oauth_consumer, oauth_token)\n",
    "\n",
    "  headers = req.to_header()\n",
    "\n",
    "  if http_method == \"POST\":\n",
    "    encoded_post_data = req.to_postdata()\n",
    "  else:\n",
    "    encoded_post_data = None\n",
    "    url = req.to_url()\n",
    "\n",
    "  opener = urllib.OpenerDirector()\n",
    "  opener.add_handler(http_handler)\n",
    "  opener.add_handler(https_handler)\n",
    "\n",
    "  response = opener.open(url, encoded_post_data)\n",
    "\n",
    "  return response\n",
    "\n",
    "def fetchsamples():\n",
    "  url = \"https://api.twitter.com/1.1/search/tweets.json?q=microsoft\"\n",
    "  parameters = []\n",
    "  response = twitterreq(url, \"GET\", parameters)\n",
    "  return json.load(response)\n",
    "#  for line in response:\n",
    "#    print line.strip()\n",
    "\n",
    "#if __name__ == '__main__':\n",
    "#   fetchsamples()\n",
    "\n",
    "myResults = fetchsamples()\n",
    "print (myResults)"
   ]
  },
  {
   "cell_type": "code",
   "execution_count": null,
   "metadata": {},
   "outputs": [],
   "source": []
  }
 ],
 "metadata": {
  "kernelspec": {
   "display_name": "Python 3",
   "language": "python",
   "name": "python3"
  },
  "language_info": {
   "codemirror_mode": {
    "name": "ipython",
    "version": 3
   },
   "file_extension": ".py",
   "mimetype": "text/x-python",
   "name": "python",
   "nbconvert_exporter": "python",
   "pygments_lexer": "ipython3",
   "version": "3.7.4"
  }
 },
 "nbformat": 4,
 "nbformat_minor": 4
}
